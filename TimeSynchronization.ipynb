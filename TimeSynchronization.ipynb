{
 "cells": [
  {
   "cell_type": "code",
   "execution_count": 1,
   "metadata": {
    "collapsed": true
   },
   "outputs": [],
   "source": [
    "import time, datetime\n",
    "from datetime import timedelta\n",
    "import csv\n",
    "import calendar\n",
    "import pandas as pd"
   ]
  },
  {
   "cell_type": "code",
   "execution_count": 2,
   "metadata": {
    "collapsed": false
   },
   "outputs": [],
   "source": [
    "data = pd.read_csv(\"data.csv\")\n",
    "\n",
    "#multiply to get time in (milli?) seconds\n",
    "data['time'] = data['time']*8"
   ]
  },
  {
   "cell_type": "code",
   "execution_count": 71,
   "metadata": {
    "collapsed": false
   },
   "outputs": [],
   "source": [
    "#for i in data['time']:\n",
    "    #print Index(data['time'],i.get_loc()\n",
    "timeSeries = list(data['time'])\n",
    "\n",
    "for i in range(0,len(timeSeries)):\n",
    "        if i > 0:\n",
    "            if timeSeries[i] < timeSeries[i-1]:\n",
    "                #recursively edit overflow\n",
    "                timeSeries[i] = timeSeries[i-1] + 8\n",
    "                print \"edited due to overflow or reset at row \" + str(i)\n",
    "\n",
    "#write data back into dataframe\n",
    "data['time'] = timeSeries"
   ]
  },
  {
   "cell_type": "code",
   "execution_count": 74,
   "metadata": {
    "collapsed": false
   },
   "outputs": [
    {
     "name": "stdout",
     "output_type": "stream",
     "text": [
      "28800\n"
     ]
    }
   ],
   "source": [
    "#obtain how many milliseconds elapsed \n",
    "millisElapsed = data['time'][len(data)-1]\n",
    "\n",
    "realtimeStartDate = time.time() - millisElapsed\n",
    "\n",
    "#adjust in time since epoch the starting time of the loggings\n",
    "data['realtime'] = realtimeStartDate + data['time']\n",
    "\n",
    "#load times as DatetimeIndex\n",
    "data['realtime'] = pd.DatetimeIndex(pd.to_datetime(data['realtime'], unit='s'))\n",
    "\n",
    "#convert to timezone\n",
    "\n",
    "data['realtime'] = times.tz_convert('US/Pacific')\n",
    "\n",
    "#time string formatting\n",
    "data['realtime'] = times.strftime('%X %D')\n",
    "print time.timezone"
   ]
  },
  {
   "cell_type": "code",
   "execution_count": null,
   "metadata": {
    "collapsed": false
   },
   "outputs": [],
   "source": []
  },
  {
   "cell_type": "code",
   "execution_count": null,
   "metadata": {
    "collapsed": false
   },
   "outputs": [],
   "source": []
  },
  {
   "cell_type": "code",
   "execution_count": null,
   "metadata": {
    "collapsed": true
   },
   "outputs": [],
   "source": []
  }
 ],
 "metadata": {
  "kernelspec": {
   "display_name": "Python 2",
   "language": "python",
   "name": "python2"
  },
  "language_info": {
   "codemirror_mode": {
    "name": "ipython",
    "version": 2
   },
   "file_extension": ".py",
   "mimetype": "text/x-python",
   "name": "python",
   "nbconvert_exporter": "python",
   "pygments_lexer": "ipython2",
   "version": "2.7.12"
  }
 },
 "nbformat": 4,
 "nbformat_minor": 2
}
