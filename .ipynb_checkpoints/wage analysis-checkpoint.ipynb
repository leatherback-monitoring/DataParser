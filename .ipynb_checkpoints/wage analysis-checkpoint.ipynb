{
 "cells": [
  {
   "cell_type": "code",
   "execution_count": 1,
   "metadata": {
    "collapsed": true
   },
   "outputs": [],
   "source": [
    "import pandas as pd"
   ]
  },
  {
   "cell_type": "code",
   "execution_count": 78,
   "metadata": {
    "collapsed": false
   },
   "outputs": [],
   "source": [
    "df = pd.read_csv('wagedata.csv')"
   ]
  },
  {
   "cell_type": "code",
   "execution_count": 79,
   "metadata": {
    "collapsed": false
   },
   "outputs": [],
   "source": [
    "del df['Unnamed: 4']"
   ]
  },
  {
   "cell_type": "code",
   "execution_count": 81,
   "metadata": {
    "collapsed": false
   },
   "outputs": [],
   "source": [
    "df = df.rename(columns={'Unnamed: 0': 'SSYK','Unnamed: 1': 'Job Description'})"
   ]
  },
  {
   "cell_type": "code",
   "execution_count": 192,
   "metadata": {
    "collapsed": false
   },
   "outputs": [],
   "source": [
    "df.dropna(inplace=True)"
   ]
  },
  {
   "cell_type": "code",
   "execution_count": 84,
   "metadata": {
    "collapsed": false
   },
   "outputs": [
    {
     "data": {
      "text/html": [
       "<div>\n",
       "<table border=\"1\" class=\"dataframe\">\n",
       "  <thead>\n",
       "    <tr style=\"text-align: right;\">\n",
       "      <th></th>\n",
       "      <th>SSYK</th>\n",
       "      <th>Job Description</th>\n",
       "      <th>Sweden Born</th>\n",
       "      <th>Asia Born</th>\n",
       "      <th>Monthly salary</th>\n",
       "      <th>Median</th>\n",
       "      <th>10th percentile</th>\n",
       "      <th>25th percentile</th>\n",
       "      <th>75th percentile</th>\n",
       "      <th>90th percentile</th>\n",
       "    </tr>\n",
       "  </thead>\n",
       "  <tbody>\n",
       "    <tr>\n",
       "      <th>5</th>\n",
       "      <td>921.0</td>\n",
       "      <td>Berry pickers and planters</td>\n",
       "      <td>1869</td>\n",
       "      <td>140.0</td>\n",
       "      <td>21000.0</td>\n",
       "      <td>20300</td>\n",
       "      <td>18100</td>\n",
       "      <td>19000</td>\n",
       "      <td>22600.0</td>\n",
       "      <td>25000</td>\n",
       "    </tr>\n",
       "    <tr>\n",
       "      <th>6</th>\n",
       "      <td>941.0</td>\n",
       "      <td>Fast-food workers, food preparation assistants</td>\n",
       "      <td>46560</td>\n",
       "      <td>10518.0</td>\n",
       "      <td>21500.0</td>\n",
       "      <td>21400</td>\n",
       "      <td>17700</td>\n",
       "      <td>19900</td>\n",
       "      <td>22900.0</td>\n",
       "      <td>24800</td>\n",
       "    </tr>\n",
       "    <tr>\n",
       "      <th>7</th>\n",
       "      <td>31.0</td>\n",
       "      <td>Armed forces occupations, other ranks</td>\n",
       "      <td>7138</td>\n",
       "      <td>72.0</td>\n",
       "      <td>21600.0</td>\n",
       "      <td>20200</td>\n",
       "      <td>18200</td>\n",
       "      <td>18900</td>\n",
       "      <td>22200.0</td>\n",
       "      <td>26500</td>\n",
       "    </tr>\n",
       "    <tr>\n",
       "      <th>8</th>\n",
       "      <td>531.0</td>\n",
       "      <td>Child care workers and teachers aides</td>\n",
       "      <td>80818</td>\n",
       "      <td>6987.0</td>\n",
       "      <td>21800.0</td>\n",
       "      <td>22000</td>\n",
       "      <td>18000</td>\n",
       "      <td>19500</td>\n",
       "      <td>23900.0</td>\n",
       "      <td>25400</td>\n",
       "    </tr>\n",
       "    <tr>\n",
       "      <th>9</th>\n",
       "      <td>911.0</td>\n",
       "      <td>Cleaners and helpers</td>\n",
       "      <td>34776</td>\n",
       "      <td>10781.0</td>\n",
       "      <td>21800.0</td>\n",
       "      <td>21600</td>\n",
       "      <td>19000</td>\n",
       "      <td>20400</td>\n",
       "      <td>22900.0</td>\n",
       "      <td>24600</td>\n",
       "    </tr>\n",
       "  </tbody>\n",
       "</table>\n",
       "</div>"
      ],
      "text/plain": [
       "    SSYK                                 Job Description  Sweden Born  \\\n",
       "5  921.0                      Berry pickers and planters         1869   \n",
       "6  941.0  Fast-food workers, food preparation assistants        46560   \n",
       "7   31.0           Armed forces occupations, other ranks         7138   \n",
       "8  531.0           Child care workers and teachers aides        80818   \n",
       "9  911.0                            Cleaners and helpers        34776   \n",
       "\n",
       "   Asia Born  Monthly salary Median 10th percentile 25th percentile  \\\n",
       "5      140.0         21000.0  20300           18100           19000   \n",
       "6    10518.0         21500.0  21400           17700           19900   \n",
       "7       72.0         21600.0  20200           18200           18900   \n",
       "8     6987.0         21800.0  22000           18000           19500   \n",
       "9    10781.0         21800.0  21600           19000           20400   \n",
       "\n",
       "   75th percentile 90th percentile  \n",
       "5          22600.0           25000  \n",
       "6          22900.0           24800  \n",
       "7          22200.0           26500  \n",
       "8          23900.0           25400  \n",
       "9          22900.0           24600  "
      ]
     },
     "execution_count": 84,
     "metadata": {},
     "output_type": "execute_result"
    }
   ],
   "source": [
    "df.head()"
   ]
  },
  {
   "cell_type": "code",
   "execution_count": 186,
   "metadata": {
    "collapsed": false
   },
   "outputs": [
    {
     "name": "stdout",
     "output_type": "stream",
     "text": [
      "1869 * 21000.0\n",
      "46560 * 21500.0\n",
      "7138 * 21600.0\n",
      "80818 * 21800.0\n",
      "34776 * 21800.0\n",
      "6402 * 22100.0\n",
      "27579 * 22300.0\n",
      "2573 * 22600.0\n",
      "16655 * 23000.0\n",
      "3353 * 23000.0\n",
      "12269 * 23000.0\n",
      "57308 * 23100.0\n",
      "7298 * 23400.0\n",
      "3437 * 23500.0\n",
      "3024 * 23700.0\n",
      "1521 * 23800.0\n",
      "21386 * 24000.0\n",
      "split a group at row 22\n",
      "7.00795778968\n"
     ]
    }
   ],
   "source": [
    "df = df.sort_values(by='Monthly salary',ascending=True)\n",
    "\n",
    "\n",
    "#numAsians = df['Asia Born'].sum()\n",
    "\n",
    "#swedishDecile = numSwedes/10\n",
    "#asianDecile = numAsians/10\n",
    "\n",
    "df.head()\n",
    "\n",
    "sumDecile = 0\n",
    "#for i in range(0,len(df)-1):\n",
    "i=0\n",
    "j=0\n",
    "#print df['Sweden Born'][1]\n",
    "#while j < swedishDecile:\n",
    "#    if j < df['Sweden Born'][i]:\n",
    "#        sum += j*df['Monthly salary'][i]\n",
    "#        j+1\n",
    "#    i+1\n",
    "\n",
    "#generates an income distribution given a population breakdown and salary\n",
    "def genDeciles(group, salary):\n",
    "    popGroup = df[group].sum()\n",
    "    popDecile = (popGroup/10)\n",
    "    totalIncome = (df[group] * df[salary]).sum()\n",
    "    overflowPeople = []\n",
    "    i=5\n",
    "    for j in range(1,10):    \n",
    "        #print \"Decile population: \" + str(popDecile)\n",
    "        popSum = 0\n",
    "        incomeSum = 0\n",
    "        while i < len(df):\n",
    "            if popSum + df[group][i] < popDecile:\n",
    "                popSum = popSum + df[group][i]\n",
    "                print df[group][i], \"*\", df[salary][i]\n",
    "                incomeSum += df[group][i] * df[salary][i]\n",
    "                #print popSum, incomeSum\n",
    "                i+=1\n",
    "            elif popSum + df[group][i] > popDecile:\n",
    "                i+=1\n",
    "                incomeSum = incomeSum + remainingPeople * df[salary][i]\n",
    "                print remainingPeople, \"*\", df[salary][i]\n",
    "                \n",
    "                print \"split a group at row\", i\n",
    "                print 100*incomeSum/totalIncome\n",
    "                #print remainingPeople\n",
    "                break\n",
    "                \n",
    "genDecile('Sweden Born','Monthly salary')"
   ]
  },
  {
   "cell_type": "code",
   "execution_count": null,
   "metadata": {
    "collapsed": true
   },
   "outputs": [],
   "source": []
  },
  {
   "cell_type": "code",
   "execution_count": null,
   "metadata": {
    "collapsed": true
   },
   "outputs": [],
   "source": []
  },
  {
   "cell_type": "code",
   "execution_count": null,
   "metadata": {
    "collapsed": true
   },
   "outputs": [],
   "source": []
  },
  {
   "cell_type": "code",
   "execution_count": null,
   "metadata": {
    "collapsed": true
   },
   "outputs": [],
   "source": []
  },
  {
   "cell_type": "code",
   "execution_count": 185,
   "metadata": {
    "collapsed": false
   },
   "outputs": [
    {
     "data": {
      "text/plain": [
       "0.0"
      ]
     },
     "execution_count": 185,
     "metadata": {},
     "output_type": "execute_result"
    }
   ],
   "source": []
  },
  {
   "cell_type": "code",
   "execution_count": null,
   "metadata": {
    "collapsed": true
   },
   "outputs": [],
   "source": []
  },
  {
   "cell_type": "code",
   "execution_count": null,
   "metadata": {
    "collapsed": true
   },
   "outputs": [],
   "source": []
  },
  {
   "cell_type": "code",
   "execution_count": null,
   "metadata": {
    "collapsed": true
   },
   "outputs": [],
   "source": []
  },
  {
   "cell_type": "code",
   "execution_count": null,
   "metadata": {
    "collapsed": true
   },
   "outputs": [],
   "source": []
  },
  {
   "cell_type": "code",
   "execution_count": null,
   "metadata": {
    "collapsed": true
   },
   "outputs": [],
   "source": []
  },
  {
   "cell_type": "code",
   "execution_count": null,
   "metadata": {
    "collapsed": true
   },
   "outputs": [],
   "source": []
  },
  {
   "cell_type": "code",
   "execution_count": null,
   "metadata": {
    "collapsed": true
   },
   "outputs": [],
   "source": []
  },
  {
   "cell_type": "code",
   "execution_count": null,
   "metadata": {
    "collapsed": true
   },
   "outputs": [],
   "source": []
  },
  {
   "cell_type": "code",
   "execution_count": null,
   "metadata": {
    "collapsed": true
   },
   "outputs": [],
   "source": []
  },
  {
   "cell_type": "code",
   "execution_count": null,
   "metadata": {
    "collapsed": true
   },
   "outputs": [],
   "source": []
  },
  {
   "cell_type": "code",
   "execution_count": null,
   "metadata": {
    "collapsed": true
   },
   "outputs": [],
   "source": []
  },
  {
   "cell_type": "code",
   "execution_count": null,
   "metadata": {
    "collapsed": true
   },
   "outputs": [],
   "source": []
  },
  {
   "cell_type": "code",
   "execution_count": null,
   "metadata": {
    "collapsed": true
   },
   "outputs": [],
   "source": []
  },
  {
   "cell_type": "code",
   "execution_count": null,
   "metadata": {
    "collapsed": true
   },
   "outputs": [],
   "source": []
  },
  {
   "cell_type": "code",
   "execution_count": null,
   "metadata": {
    "collapsed": true
   },
   "outputs": [],
   "source": []
  },
  {
   "cell_type": "code",
   "execution_count": null,
   "metadata": {
    "collapsed": true
   },
   "outputs": [],
   "source": []
  }
 ],
 "metadata": {
  "kernelspec": {
   "display_name": "Python 2",
   "language": "python",
   "name": "python2"
  },
  "language_info": {
   "codemirror_mode": {
    "name": "ipython",
    "version": 2
   },
   "file_extension": ".py",
   "mimetype": "text/x-python",
   "name": "python",
   "nbconvert_exporter": "python",
   "pygments_lexer": "ipython2",
   "version": "2.7.13"
  }
 },
 "nbformat": 4,
 "nbformat_minor": 2
}
