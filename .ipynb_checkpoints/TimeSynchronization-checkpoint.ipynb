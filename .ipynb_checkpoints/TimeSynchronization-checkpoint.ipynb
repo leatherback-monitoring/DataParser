{
 "cells": [
  {
   "cell_type": "code",
   "execution_count": 5,
   "metadata": {
    "collapsed": false,
    "deletable": true,
    "editable": true
   },
   "outputs": [],
   "source": [
    "import time, datetime\n",
    "from datetime import datetime, timedelta\n",
    "import csv\n",
    "import calendar\n",
    "import pandas as pd\n",
    "import numpy.random as random\n",
    "import sys\n",
    "import matplotlib.pyplot as plt\n"
   ]
  },
  {
   "cell_type": "code",
   "execution_count": 6,
   "metadata": {
    "collapsed": true
   },
   "outputs": [],
   "source": [
    "plt.style.use('ggplot')"
   ]
  },
  {
   "cell_type": "code",
   "execution_count": 7,
   "metadata": {
    "collapsed": false,
    "deletable": true,
    "editable": true
   },
   "outputs": [],
   "source": [
    "data = pd.read_csv(\"data.csv\")\n",
    "\n",
    "#multiply to get time in seconds\n",
    "data['time'] = data['time']*8"
   ]
  },
  {
   "cell_type": "code",
   "execution_count": 8,
   "metadata": {
    "collapsed": false,
    "deletable": true,
    "editable": true
   },
   "outputs": [
    {
     "name": "stdout",
     "output_type": "stream",
     "text": [
      "edited due to overflow or reset at row 43\n",
      "edited due to overflow or reset at row 44\n",
      "edited due to overflow or reset at row 45\n",
      "edited due to overflow or reset at row 46\n",
      "edited due to overflow or reset at row 47\n",
      "edited due to overflow or reset at row 48\n",
      "edited due to overflow or reset at row 49\n",
      "edited due to overflow or reset at row 50\n",
      "edited due to overflow or reset at row 51\n",
      "edited due to overflow or reset at row 52\n",
      "edited due to overflow or reset at row 53\n",
      "edited due to overflow or reset at row 54\n",
      "edited due to overflow or reset at row 55\n",
      "edited due to overflow or reset at row 56\n",
      "edited due to overflow or reset at row 57\n",
      "edited due to overflow or reset at row 58\n",
      "edited due to overflow or reset at row 59\n",
      "edited due to overflow or reset at row 60\n",
      "edited due to overflow or reset at row 61\n",
      "edited due to overflow or reset at row 62\n",
      "edited due to overflow or reset at row 63\n",
      "edited due to overflow or reset at row 64\n",
      "edited due to overflow or reset at row 65\n",
      "edited due to overflow or reset at row 66\n",
      "edited due to overflow or reset at row 67\n",
      "edited due to overflow or reset at row 68\n",
      "edited due to overflow or reset at row 69\n",
      "edited due to overflow or reset at row 70\n",
      "edited due to overflow or reset at row 71\n",
      "edited due to overflow or reset at row 72\n",
      "edited due to overflow or reset at row 73\n",
      "edited due to overflow or reset at row 74\n",
      "edited due to overflow or reset at row 75\n"
     ]
    }
   ],
   "source": [
    "#for i in data['time']:\n",
    "    #print Index(data['time'],i.get_loc()\n",
    "timeSeries = list(data['time'])\n",
    "\n",
    "for i in range(0,len(timeSeries)):\n",
    "        if i > 0:\n",
    "            if timeSeries[i] < timeSeries[i-1]:\n",
    "                #recursively edit overflow\n",
    "                timeSeries[i] = timeSeries[i-1] + 8\n",
    "                print \"edited due to overflow or reset at row \" + str(i)\n",
    "\n",
    "#write data back into dataframe\n",
    "data['time'] = timeSeries"
   ]
  },
  {
   "cell_type": "code",
   "execution_count": 9,
   "metadata": {
    "collapsed": false,
    "deletable": true,
    "editable": true
   },
   "outputs": [],
   "source": [
    "def singleSync(series):\n",
    "    #obtain how many seconds elapsed \n",
    "    lastReading = data[series][len(data)-1]\n",
    "\n",
    "    calculatedStartDate = datetime.now()- timedelta(seconds=int(lastReading))\n",
    "    #load times as timedelta\n",
    "    timedeltas = pd.to_timedelta(data[series],unit='s')\n",
    "    columnName = str('realtime - ' + series)\n",
    "    #adjust in time since epoch the starting time of the loggings\n",
    "    data[columnName] = calculatedStartDate + timedeltas\n",
    "\n",
    "    #time string formatting\n",
    "    data[columnName] = pd.to_datetime(pd.DatetimeIndex(data[columnName]).strftime('%X %D'))"
   ]
  },
  {
   "cell_type": "code",
   "execution_count": 10,
   "metadata": {
    "collapsed": false,
    "deletable": true,
    "editable": true
   },
   "outputs": [],
   "source": [
    "singleSync('time')\n",
    "#generate some noise\n",
    "def noise():\n",
    "    return random.randint(-2,2) * random.rand()\n",
    "\n",
    "timeSeries = list(data['time'])\n",
    "#generate a fake user-inputted start date with some error built-in (for testing time correction purposes only\n",
    "\n",
    "for i in range (0,len(timeSeries)):\n",
    "        #if i == 0:\n",
    "         #       timeSeries[i] = timeSeries[i] + noise()\n",
    "        if i > 0:\n",
    "                timeSeries[i] = timeSeries[i-1] + 8 + noise()\n",
    "\n",
    "data['noisytime'] = timeSeries\n",
    "\n",
    "singleSync('noisytime')\n"
   ]
  },
  {
   "cell_type": "code",
   "execution_count": 11,
   "metadata": {
    "collapsed": false,
    "deletable": true,
    "editable": true
   },
   "outputs": [],
   "source": [
    "def getUserStartDate():\n",
    "    while True:\n",
    "        #userIn = raw_input(\"Type Date: mm/dd/yy: \")\n",
    "        userDateInput = raw_input(\"enter the day the sensor was turned on and placed in the nest as mm/dd/yyyy \")\n",
    "        try:\n",
    "            date = datetime.strptime(userDateInput, \"%m/%d/%Y\")\n",
    "            #date = datetime.date(year=date.year, month = date.month, day=date.day)\n",
    "        except ValueError as e:\n",
    "            print \"Invalid Format: {0}\".format(e)\n",
    "        else:\n",
    "            return date\n",
    "\n",
    "def getUserStartTime():\n",
    "    while True:\n",
    "        #do the biologists use 24hr time?\n",
    "        userTimeInput = raw_input(\"enter the time the sensor was turned on and placed in the nest as 24-Hour time in the format hr:min (e.x. 16:32): \")\n",
    "        try:\n",
    "            time = datetime.strptime(userTimeInput + \":00\", \"%X\")\n",
    "            #time = timedelta(hours=time.hour, minutes=time.minute, seconds=0)\n",
    "        except ValueError as e:\n",
    "            print \"Invalid Format: {0}\".format(e)\n",
    "        else:\n",
    "            return time"
   ]
  },
  {
   "cell_type": "code",
   "execution_count": 12,
   "metadata": {
    "collapsed": true,
    "deletable": true,
    "editable": true
   },
   "outputs": [],
   "source": [
    "#from http://code.activestate.com/recipes/577058/\n",
    "def query_yes_no(question, default=\"yes\"):\n",
    "    \"\"\"Ask a yes/no question via raw_input() and return their answer.\n",
    "\n",
    "    \"question\" is a string that is presented to the user.\n",
    "    \"default\" is the presumed answer if the user just hits <Enter>.\n",
    "        It must be \"yes\" (the default), \"no\" or None (meaning\n",
    "        an answer is required of the user).\n",
    "\n",
    "    The \"answer\" return value is True for \"yes\" or False for \"no\".\n",
    "    \"\"\"\n",
    "    valid = {\"yes\": True, \"y\": True, \"ye\": True,\n",
    "             \"no\": False, \"n\": False}\n",
    "    if default is None:\n",
    "        prompt = \" [yes/no] \"\n",
    "    elif default == \"yes\":\n",
    "        prompt = \" [yes/no] \"\n",
    "    elif default == \"no\":\n",
    "        prompt = \" [yes/no] \"\n",
    "    else:\n",
    "        raise ValueError(\"invalid default answer: '%s'\" % default)\n",
    "\n",
    "    while True:\n",
    "        sys.stdout.write(question + prompt)\n",
    "        choice = raw_input().lower()\n",
    "        if default is not None and choice == '':\n",
    "            return valid[default]\n",
    "        elif choice in valid:\n",
    "            return valid[choice]\n",
    "        else:\n",
    "            sys.stdout.write(\"Please respond with 'yes' or 'no' \"\n",
    "                             \"(or 'y' or 'n').\\n\")"
   ]
  },
  {
   "cell_type": "code",
   "execution_count": 24,
   "metadata": {
    "collapsed": false,
    "deletable": true,
    "editable": true
   },
   "outputs": [
    {
     "name": "stdout",
     "output_type": "stream",
     "text": [
      "enter the day the sensor was turned on and placed in the nest as mm/dd/yyyy 2/25/2017\n",
      "enter the time the sensor was turned on and placed in the nest as 24-Hour time in the format hr:min (e.x. 16:32): 14:14\n",
      "your date is: 2017-02-25 14:14:00\n",
      "is this correct?  [yes/no] yes\n",
      "synchronizing time now...\n",
      "0.0975055130289\n",
      "0 days 00:00:08.448326seconds\n"
     ]
    }
   ],
   "source": [
    "def valiDate():\n",
    "    date = getUserStartDate()\n",
    "    time = getUserStartTime()\n",
    "    userStartDateTime = datetime(year=date.year, month=date.month, day=date.day, hour=time.hour, minute= time.minute, second=0)\n",
    "    print \"your date is: \" + str(userStartDateTime)\n",
    "    userVerify = query_yes_no(\"is this correct? \")\n",
    "    if userVerify == False:\n",
    "        valiDate()\n",
    "    if userVerify == True:\n",
    "        print \"synchronizing time now...\"\n",
    "        return userStartDateTime\n",
    "\n",
    "\n",
    "def DoubleSync(series):\n",
    "    columnName = str('doubleSyncRealTime - ' + series)\n",
    "    #if the user start date doesn't match the singleSync start date, do I adjust by taking the\n",
    "    #currentTime - userStartTime / number of readings (not preserving 8-sec logging) or by doing\n",
    "    #userStartTime + 8n?\n",
    "\n",
    "    #% will adjust syncing approach based on the percentage off the data is.\n",
    "    tolerance = .1\n",
    "    userStartDateTime = valiDate()\n",
    "    timeElapsed = data[series][len(data[series])-1] - data[series][0]\n",
    "    if userStartDateTime - data[series][0] !=0:\n",
    "        percentOff = abs((userStartDateTime - data[series][0])/(data[series][len(data[series])-1] - data[series][0]))\n",
    "        print percentOff\n",
    "        if percentOff > tolerance:\n",
    "            #userStartTime + 8n\n",
    "            data['doublesync'] = pd.date_range(freq=pd.DateOffset(seconds=8),start=userStartDateTime,periods=len(data[series]))\n",
    "            for i in range(0, len(data[series])-1):\n",
    "                print userStartDateTime + timedelta(seconds=8*i)\n",
    "                #data['doublesync'].append(userStartDateTime + timedelta(0,0, 8*i ))\n",
    "            data.head()\n",
    "        elif percentOff < tolerance:\n",
    "            #print \"wow, you're actually pretty accurate\"\n",
    "            #interval = 8 seconds +/- some number of microseconds\n",
    "            interval = (data[series][len(data[series])-1] - userStartDateTime)/(len(data[series]) - 1)\n",
    "            print str(interval) + \"seconds\"\n",
    "            data['doublesync'] = pd.date_range(start=userStartDateTime, periods= len(data[series]), freq=pd.DateOffset(seconds=interval.seconds, microseconds=interval.microseconds))\n",
    "            \n",
    "\n",
    "#data['doublesync'].append(datetime(2017,10,27,8,59,0))\n",
    "DoubleSync('realtime - noisytime')"
   ]
  },
  {
   "cell_type": "code",
   "execution_count": 51,
   "metadata": {
    "collapsed": false,
    "deletable": true,
    "editable": true
   },
   "outputs": [
    {
     "data": {
      "text/html": [
       "<div>\n",
       "<table border=\"1\" class=\"dataframe\">\n",
       "  <thead>\n",
       "    <tr style=\"text-align: right;\">\n",
       "      <th></th>\n",
       "      <th>time</th>\n",
       "      <th>temp</th>\n",
       "      <th>humidity</th>\n",
       "      <th>realtime - time</th>\n",
       "      <th>noisytime</th>\n",
       "      <th>realtime - noisytime</th>\n",
       "      <th>doublesync</th>\n",
       "      <th>plotting</th>\n",
       "    </tr>\n",
       "  </thead>\n",
       "  <tbody>\n",
       "    <tr>\n",
       "      <th>0</th>\n",
       "      <td>8</td>\n",
       "      <td>29.6</td>\n",
       "      <td>50</td>\n",
       "      <td>2017-02-25 14:14:33.286</td>\n",
       "      <td>8.000000</td>\n",
       "      <td>2017-02-25 14:14:56.293000</td>\n",
       "      <td>2017-02-25 14:14:00.000000</td>\n",
       "      <td>2017-02-25 14:14:00.000000</td>\n",
       "    </tr>\n",
       "    <tr>\n",
       "      <th>1</th>\n",
       "      <td>16</td>\n",
       "      <td>29.6</td>\n",
       "      <td>34</td>\n",
       "      <td>2017-02-25 14:14:41.286</td>\n",
       "      <td>15.292069</td>\n",
       "      <td>2017-02-25 14:15:03.585069</td>\n",
       "      <td>2017-02-25 14:14:08.448326</td>\n",
       "      <td>2017-02-25 14:14:08.448326</td>\n",
       "    </tr>\n",
       "    <tr>\n",
       "      <th>2</th>\n",
       "      <td>24</td>\n",
       "      <td>28.6</td>\n",
       "      <td>62</td>\n",
       "      <td>2017-02-25 14:14:49.286</td>\n",
       "      <td>22.652716</td>\n",
       "      <td>2017-02-25 14:15:10.945716</td>\n",
       "      <td>2017-02-25 14:14:16.896652</td>\n",
       "      <td>2017-02-25 14:14:16.896652</td>\n",
       "    </tr>\n",
       "    <tr>\n",
       "      <th>3</th>\n",
       "      <td>32</td>\n",
       "      <td>30.6</td>\n",
       "      <td>76</td>\n",
       "      <td>2017-02-25 14:14:57.286</td>\n",
       "      <td>30.652716</td>\n",
       "      <td>2017-02-25 14:15:18.945716</td>\n",
       "      <td>2017-02-25 14:14:25.344978</td>\n",
       "      <td>2017-02-25 14:14:25.344978</td>\n",
       "    </tr>\n",
       "    <tr>\n",
       "      <th>4</th>\n",
       "      <td>40</td>\n",
       "      <td>31.6</td>\n",
       "      <td>80</td>\n",
       "      <td>2017-02-25 14:15:05.286</td>\n",
       "      <td>36.827785</td>\n",
       "      <td>2017-02-25 14:15:25.120785</td>\n",
       "      <td>2017-02-25 14:14:33.793304</td>\n",
       "      <td>2017-02-25 14:14:33.793304</td>\n",
       "    </tr>\n",
       "  </tbody>\n",
       "</table>\n",
       "</div>"
      ],
      "text/plain": [
       "   time  temp  humidity         realtime - time  noisytime  \\\n",
       "0     8  29.6        50 2017-02-25 14:14:33.286   8.000000   \n",
       "1    16  29.6        34 2017-02-25 14:14:41.286  15.292069   \n",
       "2    24  28.6        62 2017-02-25 14:14:49.286  22.652716   \n",
       "3    32  30.6        76 2017-02-25 14:14:57.286  30.652716   \n",
       "4    40  31.6        80 2017-02-25 14:15:05.286  36.827785   \n",
       "\n",
       "        realtime - noisytime                 doublesync  \\\n",
       "0 2017-02-25 14:14:56.293000 2017-02-25 14:14:00.000000   \n",
       "1 2017-02-25 14:15:03.585069 2017-02-25 14:14:08.448326   \n",
       "2 2017-02-25 14:15:10.945716 2017-02-25 14:14:16.896652   \n",
       "3 2017-02-25 14:15:18.945716 2017-02-25 14:14:25.344978   \n",
       "4 2017-02-25 14:15:25.120785 2017-02-25 14:14:33.793304   \n",
       "\n",
       "                    plotting  \n",
       "0 2017-02-25 14:14:00.000000  \n",
       "1 2017-02-25 14:14:08.448326  \n",
       "2 2017-02-25 14:14:16.896652  \n",
       "3 2017-02-25 14:14:25.344978  \n",
       "4 2017-02-25 14:14:33.793304  "
      ]
     },
     "execution_count": 51,
     "metadata": {},
     "output_type": "execute_result"
    }
   ],
   "source": [
    "data['plotting']=pd.DatetimeIndex(data['doublesync'])\n",
    "data.head()"
   ]
  },
  {
   "cell_type": "code",
   "execution_count": 54,
   "metadata": {
    "collapsed": false,
    "deletable": true,
    "editable": true
   },
   "outputs": [
    {
     "data": {
      "image/png": "[encoded data removed]",
      "text/plain": [
       "<matplotlib.figure.Figure at 0x92e4080>"
      ]
     },
     "metadata": {},
     "output_type": "display_data"
    },
    {
     "data": {
      "image/png": "[encoded data removed]",
      "text/plain": [
       "<matplotlib.figure.Figure at 0xa777048>"
      ]
     },
     "metadata": {},
     "output_type": "display_data"
    },
    {
     "data": {
      "image/png": "[encoded data removed]",
      "text/plain": [
       "<matplotlib.figure.Figure at 0xa56c4e0>"
      ]
     },
     "metadata": {},
     "output_type": "display_data"
    },
    {
     "data": {
      "image/png": "[encoded data removed]",
      "text/plain": [
       "<matplotlib.figure.Figure at 0xa2c7400>"
      ]
     },
     "metadata": {},
     "output_type": "display_data"
    },
    {
     "data": {
      "image/png": "[encoded data removed]",
      "text/plain": [
       "<matplotlib.figure.Figure at 0xa2c7da0>"
      ]
     },
     "metadata": {},
     "output_type": "display_data"
    },
    {
     "data": {
      "image/png": "[encoded data removed]",
      "text/plain": [
       "<matplotlib.figure.Figure at 0xa089f28>"
      ]
     },
     "metadata": {},
     "output_type": "display_data"
    },
    {
     "data": {
      "image/png": "[encoded data removed]",
      "text/plain": [
       "<matplotlib.figure.Figure at 0x9603198>"
      ]
     },
     "metadata": {},
     "output_type": "display_data"
    }
   ],
   "source": [
    "data.plot('realtime - noisytime', y= ['temp','humidity'])\n",
    "plt.show()"
   ]
  },
  {
   "cell_type": "code",
   "execution_count": 36,
   "metadata": {
    "collapsed": false,
    "deletable": true,
    "editable": true
   },
   "outputs": [
    {
     "ename": "AttributeError",
     "evalue": "'Timestamp' object has no attribute 'dtype'",
     "output_type": "error",
     "traceback": [
      "\u001b[0;31m---------------------------------------------------------------------------\u001b[0m",
      "\u001b[0;31mAttributeError\u001b[0m                            Traceback (most recent call last)",
      "\u001b[0;32m<ipython-input-36-594dc5d727fb>\u001b[0m in \u001b[0;36m<module>\u001b[0;34m()\u001b[0m\n\u001b[0;32m----> 1\u001b[0;31m \u001b[0mdata\u001b[0m\u001b[1;33m[\u001b[0m\u001b[1;34m'realtime - time'\u001b[0m\u001b[1;33m]\u001b[0m\u001b[1;33m[\u001b[0m\u001b[1;36m2\u001b[0m\u001b[1;33m]\u001b[0m\u001b[1;33m.\u001b[0m\u001b[0mdtype\u001b[0m\u001b[1;33m\u001b[0m\u001b[0m\n\u001b[0m",
      "\u001b[0;31mAttributeError\u001b[0m: 'Timestamp' object has no attribute 'dtype'"
     ]
    }
   ],
   "source": [
    "data['realtime - time'][2].dtype"
   ]
  },
  {
   "cell_type": "code",
   "execution_count": 35,
   "metadata": {
    "collapsed": false
   },
   "outputs": [
    {
     "ename": "AttributeError",
     "evalue": "'Timestamp' object has no attribute 'dtype'",
     "output_type": "error",
     "traceback": [
      "\u001b[0;31m---------------------------------------------------------------------------\u001b[0m",
      "\u001b[0;31mAttributeError\u001b[0m                            Traceback (most recent call last)",
      "\u001b[0;32m<ipython-input-35-ba038f754486>\u001b[0m in \u001b[0;36m<module>\u001b[0;34m()\u001b[0m\n\u001b[0;32m----> 1\u001b[0;31m \u001b[0mdata\u001b[0m\u001b[1;33m[\u001b[0m\u001b[1;34m'doublesync'\u001b[0m\u001b[1;33m]\u001b[0m\u001b[1;33m[\u001b[0m\u001b[1;36m2\u001b[0m\u001b[1;33m]\u001b[0m\u001b[1;33m.\u001b[0m\u001b[0mdtype\u001b[0m\u001b[1;33m\u001b[0m\u001b[0m\n\u001b[0m",
      "\u001b[0;31mAttributeError\u001b[0m: 'Timestamp' object has no attribute 'dtype'"
     ]
    }
   ],
   "source": [
    "data['doublesync'].dtype"
   ]
  },
  {
   "cell_type": "code",
   "execution_count": null,
   "metadata": {
    "collapsed": true
   },
   "outputs": [],
   "source": []
  }
 ],
 "metadata": {
  "kernelspec": {
   "display_name": "Python 2",
   "language": "python",
   "name": "python2"
  }
 },
 "nbformat": 4,
 "nbformat_minor": 2
}
