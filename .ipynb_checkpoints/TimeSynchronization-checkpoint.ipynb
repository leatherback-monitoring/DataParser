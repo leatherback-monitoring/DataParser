{
 "cells": [
  {
   "cell_type": "code",
   "execution_count": 9,
   "metadata": {
    "collapsed": true,
    "deletable": true,
    "editable": true
   },
   "outputs": [],
   "source": [
    "import time, datetime\n",
    "from datetime import timedelta\n",
    "import csv\n",
    "import calendar\n",
    "import pandas as pd\n",
    "import numpy.random as random"
   ]
  },
  {
   "cell_type": "code",
   "execution_count": 10,
   "metadata": {
    "collapsed": false,
    "deletable": true,
    "editable": true
   },
   "outputs": [],
   "source": [
    "data = pd.read_csv(\"data.csv\")\n",
    "\n",
    "#multiply to get time in seconds\n",
    "data['time'] = data['time']*8"
   ]
  },
  {
   "cell_type": "code",
   "execution_count": 11,
   "metadata": {
    "collapsed": false,
    "deletable": true,
    "editable": true
   },
   "outputs": [
    {
     "name": "stdout",
     "output_type": "stream",
     "text": [
      "edited due to overflow or reset at row 43\n",
      "edited due to overflow or reset at row 44\n",
      "edited due to overflow or reset at row 45\n",
      "edited due to overflow or reset at row 46\n",
      "edited due to overflow or reset at row 47\n",
      "edited due to overflow or reset at row 48\n",
      "edited due to overflow or reset at row 49\n",
      "edited due to overflow or reset at row 50\n",
      "edited due to overflow or reset at row 51\n",
      "edited due to overflow or reset at row 52\n",
      "edited due to overflow or reset at row 53\n",
      "edited due to overflow or reset at row 54\n",
      "edited due to overflow or reset at row 55\n",
      "edited due to overflow or reset at row 56\n",
      "edited due to overflow or reset at row 57\n",
      "edited due to overflow or reset at row 58\n",
      "edited due to overflow or reset at row 59\n",
      "edited due to overflow or reset at row 60\n",
      "edited due to overflow or reset at row 61\n",
      "edited due to overflow or reset at row 62\n",
      "edited due to overflow or reset at row 63\n",
      "edited due to overflow or reset at row 64\n",
      "edited due to overflow or reset at row 65\n",
      "edited due to overflow or reset at row 66\n",
      "edited due to overflow or reset at row 67\n",
      "edited due to overflow or reset at row 68\n",
      "edited due to overflow or reset at row 69\n",
      "edited due to overflow or reset at row 70\n",
      "edited due to overflow or reset at row 71\n",
      "edited due to overflow or reset at row 72\n",
      "edited due to overflow or reset at row 73\n",
      "edited due to overflow or reset at row 74\n",
      "edited due to overflow or reset at row 75\n"
     ]
    }
   ],
   "source": [
    "#for i in data['time']:\n",
    "    #print Index(data['time'],i.get_loc()\n",
    "timeSeries = list(data['time'])\n",
    "\n",
    "for i in range(0,len(timeSeries)):\n",
    "        if i > 0:\n",
    "            if timeSeries[i] < timeSeries[i-1]:\n",
    "                #recursively edit overflow\n",
    "                timeSeries[i] = timeSeries[i-1] + 8\n",
    "                print \"edited due to overflow or reset at row \" + str(i)\n",
    "\n",
    "#write data back into dataframe\n",
    "data['time'] = timeSeries"
   ]
  },
  {
   "cell_type": "code",
   "execution_count": 12,
   "metadata": {
    "collapsed": false,
    "deletable": true,
    "editable": true
   },
   "outputs": [
    {
     "data": {
      "text/html": [
       "<div>\n",
       "<table border=\"1\" class=\"dataframe\">\n",
       "  <thead>\n",
       "    <tr style=\"text-align: right;\">\n",
       "      <th></th>\n",
       "      <th>time</th>\n",
       "      <th>temp</th>\n",
       "      <th>humidity</th>\n",
       "      <th>realtime - time</th>\n",
       "      <th>noisytime</th>\n",
       "      <th>realtime - noisytime</th>\n",
       "    </tr>\n",
       "  </thead>\n",
       "  <tbody>\n",
       "    <tr>\n",
       "      <th>0</th>\n",
       "      <td>8</td>\n",
       "      <td>29.6</td>\n",
       "      <td>50</td>\n",
       "      <td>2017-02-13 10:38:43.649000</td>\n",
       "      <td>8.000000</td>\n",
       "      <td>2017-02-13 10:39:10.692000</td>\n",
       "    </tr>\n",
       "    <tr>\n",
       "      <th>1</th>\n",
       "      <td>16</td>\n",
       "      <td>29.6</td>\n",
       "      <td>34</td>\n",
       "      <td>2017-02-13 10:38:51.649000</td>\n",
       "      <td>16.836408</td>\n",
       "      <td>2017-02-13 10:39:19.528408</td>\n",
       "    </tr>\n",
       "    <tr>\n",
       "      <th>2</th>\n",
       "      <td>24</td>\n",
       "      <td>28.6</td>\n",
       "      <td>62</td>\n",
       "      <td>2017-02-13 10:38:59.649000</td>\n",
       "      <td>24.319846</td>\n",
       "      <td>2017-02-13 10:39:27.011846</td>\n",
       "    </tr>\n",
       "    <tr>\n",
       "      <th>3</th>\n",
       "      <td>32</td>\n",
       "      <td>30.6</td>\n",
       "      <td>76</td>\n",
       "      <td>2017-02-13 10:39:07.649000</td>\n",
       "      <td>32.140548</td>\n",
       "      <td>2017-02-13 10:39:34.832548</td>\n",
       "    </tr>\n",
       "    <tr>\n",
       "      <th>4</th>\n",
       "      <td>40</td>\n",
       "      <td>31.6</td>\n",
       "      <td>80</td>\n",
       "      <td>2017-02-13 10:39:15.649000</td>\n",
       "      <td>39.552475</td>\n",
       "      <td>2017-02-13 10:39:42.244475</td>\n",
       "    </tr>\n",
       "  </tbody>\n",
       "</table>\n",
       "</div>"
      ],
      "text/plain": [
       "   time  temp  humidity             realtime - time  noisytime  \\\n",
       "0     8  29.6        50  2017-02-13 10:38:43.649000   8.000000   \n",
       "1    16  29.6        34  2017-02-13 10:38:51.649000  16.836408   \n",
       "2    24  28.6        62  2017-02-13 10:38:59.649000  24.319846   \n",
       "3    32  30.6        76  2017-02-13 10:39:07.649000  32.140548   \n",
       "4    40  31.6        80  2017-02-13 10:39:15.649000  39.552475   \n",
       "\n",
       "         realtime - noisytime  \n",
       "0  2017-02-13 10:39:10.692000  \n",
       "1  2017-02-13 10:39:19.528408  \n",
       "2  2017-02-13 10:39:27.011846  \n",
       "3  2017-02-13 10:39:34.832548  \n",
       "4  2017-02-13 10:39:42.244475  "
      ]
     },
     "execution_count": 12,
     "metadata": {},
     "output_type": "execute_result"
    }
   ],
   "source": [
    "def singleSync(series):\n",
    "    #obtain how many seconds elapsed \n",
    "    lastReading = data[series][len(data)-1]\n",
    "\n",
    "    calculatedStartDate = datetime.datetime.now()-datetime.timedelta(seconds=int(lastReading))\n",
    "    #load times as timedelta\n",
    "    timedeltas = pd.to_timedelta(data[series],unit='s')\n",
    "    columnName = str('realtime - ' + series)\n",
    "    #adjust in time since epoch the starting time of the loggings\n",
    "    data[columnName] = calculatedStartDate + timedeltas\n",
    "\n",
    "    #time string formatting\n",
    "    data[columnName] = pd.Series(pd.DatetimeIndex(data[columnName]).strftime('%X %D'))\n",
    "    \n",
    "singleSync('time')\n",
    "#generate some noise\n",
    "def noise():\n",
    "    return random.randint(-2,2) * random.rand()\n",
    "\n",
    "timeSeries = list(data['time'])\n",
    "#generate a fake user-inputted start date with some error built-in (for testing time correction purposes only\n",
    "\n",
    "for i in range (0,len(timeSeries)):\n",
    "        #if i == 0:\n",
    "         #       timeSeries[i] = timeSeries[i] + noise()\n",
    "        if i > 0:\n",
    "                timeSeries[i] = timeSeries[i-1] + 8 + noise()\n",
    "\n",
    "data['noisytime'] = timeSeries\n",
    "\n",
    "singleSync('noisytime')\n",
    "data.head()    \n",
    "\n",
    "\n"
   ]
  },
  {
   "cell_type": "code",
   "execution_count": null,
   "metadata": {
    "collapsed": false,
    "deletable": true,
    "editable": true
   },
   "outputs": [],
   "source": [
    "def getUserStartDatetime():\n",
    "    while True:\n",
    "        #userIn = raw_input(\"Type Date: mm/dd/yy: \")\n",
    "        userDateInput = input(\"enter the day the sensor was turned on and placed in the nest as mm/dd/yyyy\")\n",
    "        print userDateInput\n",
    "        try:\n",
    "            date = datetime.datetime.strptime(str(userDateInput), \"%m/%d/%Y\")\n",
    "        except ValueError:\n",
    "            print \"Invalid Format!\\n\"\n",
    "    while True:\n",
    "        #do the biologists use 24hr time?\n",
    "        userTimeInput = input(\"enter the time the sensor was turned on and placed in the nest as 24-Hour time in the format hr:min (e.x. 16:32):\")\n",
    "        try:\n",
    "            time = datetime.datetime.strptime(userTimeInput, \"%X\")\n",
    "        except ValueError:\n",
    "            print \"Invalid Format!\\n\"\n",
    "    return date + time\n",
    "\n",
    "    "
   ]
  },
  {
   "cell_type": "code",
   "execution_count": null,
   "metadata": {
    "collapsed": false,
    "deletable": true,
    "editable": true
   },
   "outputs": [],
   "source": [
    "getUserStartDatetime()"
   ]
  },
  {
   "cell_type": "code",
   "execution_count": null,
   "metadata": {
    "collapsed": true,
    "deletable": true,
    "editable": true
   },
   "outputs": [],
   "source": []
  },
  {
   "cell_type": "code",
   "execution_count": null,
   "metadata": {
    "collapsed": true,
    "deletable": true,
    "editable": true
   },
   "outputs": [],
   "source": []
  },
  {
   "cell_type": "code",
   "execution_count": null,
   "metadata": {
    "collapsed": true,
    "deletable": true,
    "editable": true
   },
   "outputs": [],
   "source": []
  },
  {
   "cell_type": "code",
   "execution_count": null,
   "metadata": {
    "collapsed": true,
    "deletable": true,
    "editable": true
   },
   "outputs": [],
   "source": []
  },
  {
   "cell_type": "code",
   "execution_count": null,
   "metadata": {
    "collapsed": true,
    "deletable": true,
    "editable": true
   },
   "outputs": [],
   "source": []
  },
  {
   "cell_type": "code",
   "execution_count": null,
   "metadata": {
    "collapsed": true,
    "deletable": true,
    "editable": true
   },
   "outputs": [],
   "source": []
  },
  {
   "cell_type": "code",
   "execution_count": null,
   "metadata": {
    "collapsed": true,
    "deletable": true,
    "editable": true
   },
   "outputs": [],
   "source": []
  },
  {
   "cell_type": "code",
   "execution_count": null,
   "metadata": {
    "collapsed": true,
    "deletable": true,
    "editable": true
   },
   "outputs": [],
   "source": []
  },
  {
   "cell_type": "code",
   "execution_count": null,
   "metadata": {
    "collapsed": true,
    "deletable": true,
    "editable": true
   },
   "outputs": [],
   "source": []
  },
  {
   "cell_type": "code",
   "execution_count": null,
   "metadata": {
    "collapsed": true,
    "deletable": true,
    "editable": true
   },
   "outputs": [],
   "source": []
  },
  {
   "cell_type": "code",
   "execution_count": null,
   "metadata": {
    "collapsed": true,
    "deletable": true,
    "editable": true
   },
   "outputs": [],
   "source": []
  },
  {
   "cell_type": "code",
   "execution_count": null,
   "metadata": {
    "collapsed": true,
    "deletable": true,
    "editable": true
   },
   "outputs": [],
   "source": []
  }
 ],
 "metadata": {
  "kernelspec": {
   "display_name": "Python 2",
   "language": "python",
   "name": "python2"
  },
  "language_info": {
   "codemirror_mode": {
    "name": "ipython",
    "version": 2
   },
   "file_extension": ".py",
   "mimetype": "text/x-python",
   "name": "python",
   "nbconvert_exporter": "python",
   "pygments_lexer": "ipython2",
   "version": "2.7.13"
  }
 },
 "nbformat": 4,
 "nbformat_minor": 2
}
