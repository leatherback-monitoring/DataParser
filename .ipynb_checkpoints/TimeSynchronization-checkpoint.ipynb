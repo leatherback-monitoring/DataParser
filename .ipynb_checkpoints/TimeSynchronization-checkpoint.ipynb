{
 "cells": [
  {
   "cell_type": "code",
   "execution_count": 1,
   "metadata": {
    "collapsed": false,
    "deletable": true,
    "editable": true
   },
   "outputs": [],
   "source": [
    "import time, datetime\n",
    "from datetime import datetime, timedelta\n",
    "import csv\n",
    "import calendar\n",
    "import pandas as pd\n",
    "import numpy.random as random\n",
    "import sys,os"
   ]
  },
  {
   "cell_type": "code",
   "execution_count": 11,
   "metadata": {
    "collapsed": true
   },
   "outputs": [],
   "source": [
    "#directly from http://stackoverflow.com/questions/30523735/python-dictionary-as-html-table-in-ipython-notebook\n",
    "class DictTable(dict):\n",
    "    # Overridden dict class which takes a dict in the form {'a': 2, 'b': 3},\n",
    "    # and renders an HTML Table in IPython Notebook.\n",
    "    def _repr_html_(self):\n",
    "        html = [\"<table width=100%>\"]\n",
    "        for key, value in self.iteritems():\n",
    "            html.append(\"<tr>\")\n",
    "            html.append(\"<td>{0}</td>\".format(key))\n",
    "            html.append(\"<td>{0}</td>\".format(value))\n",
    "            html.append(\"</tr>\")\n",
    "        html.append(\"</table>\")\n",
    "        return ''.join(html)"
   ]
  },
  {
   "cell_type": "code",
   "execution_count": 2,
   "metadata": {
    "collapsed": false,
    "deletable": true,
    "editable": true
   },
   "outputs": [],
   "source": [
    "data = pd.read_csv(\"data.csv\")\n",
    "\n",
    "#multiply to get time in seconds\n",
    "data['rawTime'] = data['time']*8"
   ]
  },
  {
   "cell_type": "code",
   "execution_count": 6,
   "metadata": {
    "collapsed": false,
    "deletable": true,
    "editable": true
   },
   "outputs": [
    {
     "name": "stdout",
     "output_type": "stream",
     "text": [
      "edited due to overflow or reset at row 43\n",
      "[43, 44, 45, 46, 47, 48, 49, 50, 51, 52, 53, 54, 55, 56, 57, 58, 59, 60, 61, 62, 63, 64, 65, 66, 67, 68, 69, 70, 71, 72, 73, 74, 75]\n"
     ]
    }
   ],
   "source": [
    "timeSeries = list(data['rawTime'])\n",
    "\n",
    "reset = False\n",
    "resetRows = []\n",
    "for i in range(0,len(timeSeries)):\n",
    "        if i > 0:\n",
    "            if timeSeries[i] < timeSeries[i-1]:\n",
    "                #recursively edit overflow\n",
    "                timeSeries[i] = timeSeries[i-1] + 8\n",
    "                #for debugging/logging\n",
    "                reset = True\n",
    "                resetRows.append(i)\n",
    "if reset == True:\n",
    "    for i in range(0, len(resetRows)):\n",
    "        #check to see if reset is unique or is just a chain of reset/overflow\n",
    "        if resetRows[i] != resetRows[i-1] + 1:\n",
    "            print \"edited due to overflow or reset at row \" + str(resetRows[i])\n",
    "print resetRows\n",
    "\n",
    "#write data back into dataframe\n",
    "data['rawTime'] = timeSeries"
   ]
  },
  {
   "cell_type": "code",
   "execution_count": 29,
   "metadata": {
    "collapsed": false
   },
   "outputs": [
    {
     "data": {
      "text/plain": [
       "OrderedDict([('time', ['temp', 'humidity']),\n",
       "             ('1', ['31.6', '92']),\n",
       "             ('2', ['28.6', '81']),\n",
       "             ('3', ['29.6', '65']),\n",
       "             ('4', ['27.6', '70']),\n",
       "             ('5', ['30.6', '70']),\n",
       "             ('6', ['27.6', '43']),\n",
       "             ('7', ['31.6', '78']),\n",
       "             ('8', ['31.6', '67']),\n",
       "             ('9', ['28.6', '85']),\n",
       "             ('10', ['29.6', '40']),\n",
       "             ('11', ['28.6', '95']),\n",
       "             ('12', ['30.6', '56']),\n",
       "             ('13', ['27.6', '43']),\n",
       "             ('14', ['27.6', '73']),\n",
       "             ('15', ['27.6', '91']),\n",
       "             ('16', ['27.6', '70']),\n",
       "             ('17', ['28.6', '40']),\n",
       "             ('18', ['27.6', '84']),\n",
       "             ('19', ['27.6', '86']),\n",
       "             ('20', ['28.6', '78']),\n",
       "             ('21', ['29.6', '45']),\n",
       "             ('22', ['27.6', '75']),\n",
       "             ('23', ['29.6', '79']),\n",
       "             ('24', ['31.6', '79']),\n",
       "             ('25', ['27.6', '72']),\n",
       "             ('26', ['27.6', '52']),\n",
       "             ('27', ['28.6', '62']),\n",
       "             ('28', ['29.6', '87']),\n",
       "             ('29', ['27.6', '47']),\n",
       "             ('30', ['30.6', '37']),\n",
       "             ('31', ['29.6', '92']),\n",
       "             ('32', ['27.6', '36']),\n",
       "             ('33', ['29.6', '94']),\n",
       "             ('34', ['27.6', '65']),\n",
       "             ('35', ['28.6', '62']),\n",
       "             ('36', ['28.6', '52']),\n",
       "             ('37', ['28.6', '94']),\n",
       "             ('38', ['27.6', '56']),\n",
       "             ('39', ['28.6', '77']),\n",
       "             ('40', ['27.6', '41']),\n",
       "             ('41', ['30.6', '80']),\n",
       "             ('42', ['29.6', '73']),\n",
       "             ('43', ['28.6', '60'])])"
      ]
     },
     "execution_count": 29,
     "metadata": {},
     "output_type": "execute_result"
    }
   ],
   "source": [
    "from collections import OrderedDict\n",
    "with open('data.csv', mode='r') as infile:\n",
    "    reader = csv.reader(infile)\n",
    "    with open('data_new.csv', mode='w') as outfile:\n",
    "        writer = csv.writer(outfile)\n",
    "        mydict = OrderedDict((rows[0],[rows[1],rows[2]]) for rows in reader)\n",
    "mydict"
   ]
  },
  {
   "cell_type": "code",
   "execution_count": 7,
   "metadata": {
    "collapsed": false,
    "deletable": true,
    "editable": true
   },
   "outputs": [],
   "source": [
    "def singleSync(series):\n",
    "    #obtain how many seconds elapsed \n",
    "    lastReading = data[series][len(data)-1]\n",
    "\n",
    "    calculatedStartDate = datetime.now()- timedelta(seconds=int(lastReading))\n",
    "    #load times as timedelta\n",
    "    timedeltas = pd.to_timedelta(data[series],unit='s')\n",
    "    columnName = str('realtime - ' + series)\n",
    "    #adjust in time since epoch the starting time of the loggings\n",
    "    data[columnName] = calculatedStartDate + timedeltas\n",
    "\n",
    "    #time string formatting\n",
    "    data[columnName] = pd.to_datetime(pd.DatetimeIndex(data[columnName]).strftime('%X %D'))"
   ]
  },
  {
   "cell_type": "code",
   "execution_count": 8,
   "metadata": {
    "collapsed": false,
    "deletable": true,
    "editable": true
   },
   "outputs": [],
   "source": [
    "singleSync('rawTime')\n",
    "#generate some noise\n",
    "def noise():\n",
    "    return random.randint(-2,2) * random.rand()\n",
    "\n",
    "timeSeries = list(data['rawTime'])\n",
    "#generate a fake user-inputted start date with some error built-in (for testing time correction purposes only\n",
    "\n",
    "for i in range (0,len(timeSeries)):\n",
    "        #if i == 0:\n",
    "         #       timeSeries[i] = timeSeries[i] + noise()\n",
    "        if i > 0:\n",
    "                timeSeries[i] = timeSeries[i-1] + 8 + noise()\n",
    "\n",
    "data['noisytime'] = timeSeries\n",
    "\n",
    "singleSync('noisytime')\n"
   ]
  },
  {
   "cell_type": "code",
   "execution_count": 9,
   "metadata": {
    "collapsed": false,
    "deletable": true,
    "editable": true
   },
   "outputs": [],
   "source": [
    "def getUserStartDate():\n",
    "    while True:\n",
    "        #userIn = raw_input(\"Type Date: mm/dd/yy: \")\n",
    "        userDateInput = raw_input(\"enter the day the sensor was turned on and placed in the nest as mm/dd/yyyy \")\n",
    "        try:\n",
    "            date = datetime.strptime(userDateInput, \"%m/%d/%Y\")\n",
    "            #date = datetime.date(year=date.year, month = date.month, day=date.day)\n",
    "        except ValueError as e:\n",
    "            print \"Invalid Format: {0}\".format(e)\n",
    "        else:\n",
    "            return date\n",
    "\n",
    "def getUserStartTime():\n",
    "    while True:\n",
    "        #do the biologists use 24hr time?\n",
    "        userTimeInput = raw_input(\"enter the time the sensor was turned on and placed in the nest as 24-Hour time in the format hr:min (e.x. 16:32): \")\n",
    "        try:\n",
    "            time = datetime.strptime(userTimeInput + \":00\", \"%X\")\n",
    "            #time = timedelta(hours=time.hour, minutes=time.minute, seconds=0)\n",
    "        except ValueError as e:\n",
    "            print \"Invalid Format: {0}\".format(e)\n",
    "        else:\n",
    "            return time"
   ]
  },
  {
   "cell_type": "code",
   "execution_count": 10,
   "metadata": {
    "collapsed": true,
    "deletable": true,
    "editable": true
   },
   "outputs": [],
   "source": [
    "#from http://code.activestate.com/recipes/577058/\n",
    "def query_yes_no(question, default=\"yes\"):\n",
    "    \"\"\"Ask a yes/no question via raw_input() and return their answer.\n",
    "\n",
    "    \"question\" is a string that is presented to the user.\n",
    "    \"default\" is the presumed answer if the user just hits <Enter>.\n",
    "        It must be \"yes\" (the default), \"no\" or None (meaning\n",
    "        an answer is required of the user).\n",
    "\n",
    "    The \"answer\" return value is True for \"yes\" or False for \"no\".\n",
    "    \"\"\"\n",
    "    valid = {\"yes\": True, \"y\": True, \"ye\": True,\n",
    "             \"no\": False, \"n\": False}\n",
    "    if default is None:\n",
    "        prompt = \" [yes/no] \"\n",
    "    elif default == \"yes\":\n",
    "        prompt = \" [yes/no] \"\n",
    "    elif default == \"no\":\n",
    "        prompt = \" [yes/no] \"\n",
    "    else:\n",
    "        raise ValueError(\"invalid default answer: '%s'\" % default)\n",
    "\n",
    "    while True:\n",
    "        sys.stdout.write(question + prompt)\n",
    "        choice = raw_input().lower()\n",
    "        if default is not None and choice == '':\n",
    "            return valid[default]\n",
    "        elif choice in valid:\n",
    "            return valid[choice]\n",
    "        else:\n",
    "            sys.stdout.write(\"Please respond with 'yes' or 'no' \"\n",
    "                             \"(or 'y' or 'n').\\n\")"
   ]
  },
  {
   "cell_type": "code",
   "execution_count": 11,
   "metadata": {
    "collapsed": false,
    "deletable": true,
    "editable": true
   },
   "outputs": [
    {
     "name": "stdout",
     "output_type": "stream",
     "text": [
      "enter the day the sensor was turned on and placed in the nest as mm/dd/yyyy \n",
      "Invalid Format: time data '' does not match format '%m/%d/%Y'\n",
      "enter the day the sensor was turned on and placed in the nest as mm/dd/yyyy \n",
      "Invalid Format: time data '' does not match format '%m/%d/%Y'\n",
      "enter the day the sensor was turned on and placed in the nest as mm/dd/yyyy 2/26/2017\n",
      "enter the time the sensor was turned on and placed in the nest as 24-Hour time in the format hr:min (e.x. 16:32): 12:59\n",
      "your date is: 2017-02-26 12:59:00\n",
      "is this correct?  [yes/no] yes\n",
      "synchronizing time now...\n",
      "0.910011666667% off\n"
     ]
    }
   ],
   "source": [
    "def valiDate():\n",
    "    date = getUserStartDate()\n",
    "    time = getUserStartTime()\n",
    "    userStartDateTime = datetime(year=date.year, month=date.month, day=date.day, hour=time.hour, minute= time.minute, second=0)\n",
    "    print \"your date is: \" + str(userStartDateTime)\n",
    "    userVerify = query_yes_no(\"is this correct? \")\n",
    "    if userVerify == False:\n",
    "        valiDate()\n",
    "    if userVerify == True:\n",
    "        print \"synchronizing time now...\"\n",
    "        return userStartDateTime\n",
    "\n",
    "\n",
    "def DoubleSync(series):\n",
    "    columnName = str('doubleSyncRealTime - ' + series)\n",
    "    #if the user start date doesn't match the singleSync start date, do I adjust by taking the\n",
    "    #currentTime - userStartTime / number of readings (not preserving 8-sec logging) or by doing\n",
    "    #userStartTime + 8n?\n",
    "\n",
    "    #% will adjust syncing approach based on the percentage off the data is.\n",
    "    tolerance = .1\n",
    "    userStartDateTime = valiDate()\n",
    "    timeElapsed = data[series][len(data[series])-1] - data[series][0]\n",
    "    if userStartDateTime - data[series][0] !=0:\n",
    "        percentOff = abs((userStartDateTime - data[series][0])/(data[series][len(data[series])-1] - data[series][0]))\n",
    "        print str(percentOff) + \"% off\"\n",
    "        if percentOff > tolerance:\n",
    "            #userStartTime + 8n\n",
    "            data['syncedTime'] = pd.date_range(freq=pd.DateOffset(seconds=8),start=userStartDateTime,periods=len(data[series]))\n",
    "            #for i in range(0, len(data[series])-1):\n",
    "               # print userStartDateTime + timedelta(seconds=8*i)\n",
    "                #data['doublesync'].append(userStartDateTime + timedelta(0,0, 8*i ))\n",
    "            data.head()\n",
    "        elif percentOff < tolerance:\n",
    "            #print \"wow, you're actually pretty accurate\"\n",
    "            #interval = 8 seconds +/- some number of microseconds\n",
    "            interval = (data[series][len(data[series])-1] - userStartDateTime)/(len(data[series]) - 1)\n",
    "            print str(interval) + \"seconds\"\n",
    "            data['syncedTime'] = pd.date_range(start=userStartDateTime, periods= len(data[series]), freq=pd.DateOffset(seconds=interval.seconds, microseconds=interval.microseconds))\n",
    "            \n",
    "\n",
    "#data['doublesync'].append(datetime(2017,10,27,8,59,0))\n",
    "DoubleSync('realtime - rawTime')"
   ]
  },
  {
   "cell_type": "code",
   "execution_count": 12,
   "metadata": {
    "collapsed": false,
    "deletable": true,
    "editable": true
   },
   "outputs": [
    {
     "data": {
      "text/html": [
       "<div>\n",
       "<table border=\"1\" class=\"dataframe\">\n",
       "  <thead>\n",
       "    <tr style=\"text-align: right;\">\n",
       "      <th></th>\n",
       "      <th>time</th>\n",
       "      <th>temp</th>\n",
       "      <th>humidity</th>\n",
       "      <th>rawTime</th>\n",
       "      <th>realtime - rawTime</th>\n",
       "      <th>noisytime</th>\n",
       "      <th>realtime - noisytime</th>\n",
       "      <th>syncedTime</th>\n",
       "    </tr>\n",
       "  </thead>\n",
       "  <tbody>\n",
       "    <tr>\n",
       "      <th>0</th>\n",
       "      <td>1</td>\n",
       "      <td>29.6</td>\n",
       "      <td>50</td>\n",
       "      <td>8</td>\n",
       "      <td>2017-02-26 12:49:53.993</td>\n",
       "      <td>8.000000</td>\n",
       "      <td>2017-02-26 12:50:05.000000</td>\n",
       "      <td>2017-02-26 12:59:00</td>\n",
       "    </tr>\n",
       "    <tr>\n",
       "      <th>1</th>\n",
       "      <td>2</td>\n",
       "      <td>29.6</td>\n",
       "      <td>34</td>\n",
       "      <td>16</td>\n",
       "      <td>2017-02-26 12:50:01.993</td>\n",
       "      <td>16.000000</td>\n",
       "      <td>2017-02-26 12:50:13.000000</td>\n",
       "      <td>2017-02-26 12:59:08</td>\n",
       "    </tr>\n",
       "    <tr>\n",
       "      <th>2</th>\n",
       "      <td>3</td>\n",
       "      <td>28.6</td>\n",
       "      <td>62</td>\n",
       "      <td>24</td>\n",
       "      <td>2017-02-26 12:50:09.993</td>\n",
       "      <td>23.894407</td>\n",
       "      <td>2017-02-26 12:50:20.894407</td>\n",
       "      <td>2017-02-26 12:59:16</td>\n",
       "    </tr>\n",
       "    <tr>\n",
       "      <th>3</th>\n",
       "      <td>4</td>\n",
       "      <td>30.6</td>\n",
       "      <td>76</td>\n",
       "      <td>32</td>\n",
       "      <td>2017-02-26 12:50:17.993</td>\n",
       "      <td>32.203866</td>\n",
       "      <td>2017-02-26 12:50:29.203866</td>\n",
       "      <td>2017-02-26 12:59:24</td>\n",
       "    </tr>\n",
       "    <tr>\n",
       "      <th>4</th>\n",
       "      <td>5</td>\n",
       "      <td>31.6</td>\n",
       "      <td>80</td>\n",
       "      <td>40</td>\n",
       "      <td>2017-02-26 12:50:25.993</td>\n",
       "      <td>40.203866</td>\n",
       "      <td>2017-02-26 12:50:37.203866</td>\n",
       "      <td>2017-02-26 12:59:32</td>\n",
       "    </tr>\n",
       "  </tbody>\n",
       "</table>\n",
       "</div>"
      ],
      "text/plain": [
       "   time  temp  humidity  rawTime      realtime - rawTime  noisytime  \\\n",
       "0     1  29.6        50        8 2017-02-26 12:49:53.993   8.000000   \n",
       "1     2  29.6        34       16 2017-02-26 12:50:01.993  16.000000   \n",
       "2     3  28.6        62       24 2017-02-26 12:50:09.993  23.894407   \n",
       "3     4  30.6        76       32 2017-02-26 12:50:17.993  32.203866   \n",
       "4     5  31.6        80       40 2017-02-26 12:50:25.993  40.203866   \n",
       "\n",
       "        realtime - noisytime          syncedTime  \n",
       "0 2017-02-26 12:50:05.000000 2017-02-26 12:59:00  \n",
       "1 2017-02-26 12:50:13.000000 2017-02-26 12:59:08  \n",
       "2 2017-02-26 12:50:20.894407 2017-02-26 12:59:16  \n",
       "3 2017-02-26 12:50:29.203866 2017-02-26 12:59:24  \n",
       "4 2017-02-26 12:50:37.203866 2017-02-26 12:59:32  "
      ]
     },
     "execution_count": 12,
     "metadata": {},
     "output_type": "execute_result"
    }
   ],
   "source": [
    "data.head()"
   ]
  },
  {
   "cell_type": "code",
   "execution_count": 14,
   "metadata": {
    "collapsed": false,
    "deletable": true,
    "editable": true
   },
   "outputs": [],
   "source": [
    "cleanData = data[['rawTime','temp','humidity','syncedTime']]"
   ]
  },
  {
   "cell_type": "code",
   "execution_count": 15,
   "metadata": {
    "collapsed": false,
    "deletable": true,
    "editable": true
   },
   "outputs": [
    {
     "data": {
      "text/html": [
       "<div>\n",
       "<table border=\"1\" class=\"dataframe\">\n",
       "  <thead>\n",
       "    <tr style=\"text-align: right;\">\n",
       "      <th></th>\n",
       "      <th>rawTime</th>\n",
       "      <th>temp</th>\n",
       "      <th>humidity</th>\n",
       "      <th>syncedTime</th>\n",
       "    </tr>\n",
       "  </thead>\n",
       "  <tbody>\n",
       "    <tr>\n",
       "      <th>0</th>\n",
       "      <td>8</td>\n",
       "      <td>29.6</td>\n",
       "      <td>50</td>\n",
       "      <td>2017-02-26 12:59:00</td>\n",
       "    </tr>\n",
       "    <tr>\n",
       "      <th>1</th>\n",
       "      <td>16</td>\n",
       "      <td>29.6</td>\n",
       "      <td>34</td>\n",
       "      <td>2017-02-26 12:59:08</td>\n",
       "    </tr>\n",
       "    <tr>\n",
       "      <th>2</th>\n",
       "      <td>24</td>\n",
       "      <td>28.6</td>\n",
       "      <td>62</td>\n",
       "      <td>2017-02-26 12:59:16</td>\n",
       "    </tr>\n",
       "    <tr>\n",
       "      <th>3</th>\n",
       "      <td>32</td>\n",
       "      <td>30.6</td>\n",
       "      <td>76</td>\n",
       "      <td>2017-02-26 12:59:24</td>\n",
       "    </tr>\n",
       "    <tr>\n",
       "      <th>4</th>\n",
       "      <td>40</td>\n",
       "      <td>31.6</td>\n",
       "      <td>80</td>\n",
       "      <td>2017-02-26 12:59:32</td>\n",
       "    </tr>\n",
       "  </tbody>\n",
       "</table>\n",
       "</div>"
      ],
      "text/plain": [
       "   rawTime  temp  humidity          syncedTime\n",
       "0        8  29.6        50 2017-02-26 12:59:00\n",
       "1       16  29.6        34 2017-02-26 12:59:08\n",
       "2       24  28.6        62 2017-02-26 12:59:16\n",
       "3       32  30.6        76 2017-02-26 12:59:24\n",
       "4       40  31.6        80 2017-02-26 12:59:32"
      ]
     },
     "execution_count": 15,
     "metadata": {},
     "output_type": "execute_result"
    }
   ],
   "source": [
    "cleanData.head()"
   ]
  },
  {
   "cell_type": "code",
   "execution_count": 32,
   "metadata": {
    "collapsed": false,
    "deletable": true,
    "editable": true,
    "scrolled": true
   },
   "outputs": [
    {
     "name": "stdout",
     "output_type": "stream",
     "text": [
      "C:\\Users\\matmell\\Documents\\turtlesensor\\data.csv\n"
     ]
    }
   ],
   "source": [
    "filepath = str(os.path.expanduser('~\\Documents')) + \"\\\\turtlesensor\\\\data.csv\"\n",
    "print filepath\n",
    "pd.DataFrame.to_csv(cleanData,path_or_buf=filepath)"
   ]
  },
  {
   "cell_type": "code",
   "execution_count": null,
   "metadata": {
    "collapsed": true,
    "deletable": true,
    "editable": true
   },
   "outputs": [],
   "source": []
  },
  {
   "cell_type": "code",
   "execution_count": null,
   "metadata": {
    "collapsed": true,
    "deletable": true,
    "editable": true
   },
   "outputs": [],
   "source": []
  },
  {
   "cell_type": "code",
   "execution_count": null,
   "metadata": {
    "collapsed": true,
    "deletable": true,
    "editable": true
   },
   "outputs": [],
   "source": []
  },
  {
   "cell_type": "code",
   "execution_count": null,
   "metadata": {
    "collapsed": true,
    "deletable": true,
    "editable": true
   },
   "outputs": [],
   "source": []
  },
  {
   "cell_type": "code",
   "execution_count": null,
   "metadata": {
    "collapsed": true,
    "deletable": true,
    "editable": true
   },
   "outputs": [],
   "source": []
  },
  {
   "cell_type": "code",
   "execution_count": null,
   "metadata": {
    "collapsed": true,
    "deletable": true,
    "editable": true
   },
   "outputs": [],
   "source": []
  },
  {
   "cell_type": "code",
   "execution_count": null,
   "metadata": {
    "collapsed": true,
    "deletable": true,
    "editable": true
   },
   "outputs": [],
   "source": []
  },
  {
   "cell_type": "code",
   "execution_count": null,
   "metadata": {
    "collapsed": true,
    "deletable": true,
    "editable": true
   },
   "outputs": [],
   "source": []
  },
  {
   "cell_type": "code",
   "execution_count": null,
   "metadata": {
    "collapsed": true,
    "deletable": true,
    "editable": true
   },
   "outputs": [],
   "source": []
  },
  {
   "cell_type": "code",
   "execution_count": null,
   "metadata": {
    "collapsed": true,
    "deletable": true,
    "editable": true
   },
   "outputs": [],
   "source": []
  },
  {
   "cell_type": "code",
   "execution_count": null,
   "metadata": {
    "collapsed": true,
    "deletable": true,
    "editable": true
   },
   "outputs": [],
   "source": []
  },
  {
   "cell_type": "code",
   "execution_count": null,
   "metadata": {
    "collapsed": true,
    "deletable": true,
    "editable": true
   },
   "outputs": [],
   "source": []
  },
  {
   "cell_type": "code",
   "execution_count": null,
   "metadata": {
    "collapsed": true,
    "deletable": true,
    "editable": true
   },
   "outputs": [],
   "source": []
  },
  {
   "cell_type": "code",
   "execution_count": null,
   "metadata": {
    "collapsed": true,
    "deletable": true,
    "editable": true
   },
   "outputs": [],
   "source": []
  },
  {
   "cell_type": "code",
   "execution_count": null,
   "metadata": {
    "collapsed": true,
    "deletable": true,
    "editable": true
   },
   "outputs": [],
   "source": []
  },
  {
   "cell_type": "code",
   "execution_count": null,
   "metadata": {
    "collapsed": true,
    "deletable": true,
    "editable": true
   },
   "outputs": [],
   "source": []
  },
  {
   "cell_type": "code",
   "execution_count": null,
   "metadata": {
    "collapsed": true,
    "deletable": true,
    "editable": true
   },
   "outputs": [],
   "source": []
  },
  {
   "cell_type": "code",
   "execution_count": null,
   "metadata": {
    "collapsed": true,
    "deletable": true,
    "editable": true
   },
   "outputs": [],
   "source": []
  },
  {
   "cell_type": "code",
   "execution_count": null,
   "metadata": {
    "collapsed": true,
    "deletable": true,
    "editable": true
   },
   "outputs": [],
   "source": []
  },
  {
   "cell_type": "code",
   "execution_count": null,
   "metadata": {
    "collapsed": true,
    "deletable": true,
    "editable": true
   },
   "outputs": [],
   "source": []
  },
  {
   "cell_type": "code",
   "execution_count": null,
   "metadata": {
    "collapsed": true,
    "deletable": true,
    "editable": true
   },
   "outputs": [],
   "source": []
  },
  {
   "cell_type": "code",
   "execution_count": null,
   "metadata": {
    "collapsed": true,
    "deletable": true,
    "editable": true
   },
   "outputs": [],
   "source": []
  },
  {
   "cell_type": "code",
   "execution_count": null,
   "metadata": {
    "collapsed": true,
    "deletable": true,
    "editable": true
   },
   "outputs": [],
   "source": []
  }
 ],
 "metadata": {
  "kernelspec": {
   "display_name": "Python 2",
   "language": "python",
   "name": "python2"
  },
  "language_info": {
   "codemirror_mode": {
    "name": "ipython",
    "version": 2
   },
   "file_extension": ".py",
   "mimetype": "text/x-python",
   "name": "python",
   "nbconvert_exporter": "python",
   "pygments_lexer": "ipython2",
   "version": "2.7.13"
  }
 },
 "nbformat": 4,
 "nbformat_minor": 2
}
